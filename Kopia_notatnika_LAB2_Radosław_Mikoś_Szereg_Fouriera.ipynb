{
  "nbformat": 4,
  "nbformat_minor": 0,
  "metadata": {
    "colab": {
      "name": "Kopia notatnika LAB2_Radosław_Mikoś_Szereg_Fouriera.ipynb",
      "provenance": [],
      "collapsed_sections": []
    },
    "kernelspec": {
      "name": "python3",
      "display_name": "Python 3"
    },
    "language_info": {
      "name": "python"
    }
  },
  "cells": [
    {
      "cell_type": "code",
      "execution_count": null,
      "metadata": {
        "colab": {
          "base_uri": "https://localhost:8080/",
          "height": 334
        },
        "id": "dK942Ev-bpCc",
        "outputId": "856c107e-dcc2-428d-c355-5fa5d0d794fd"
      },
      "outputs": [
        {
          "output_type": "stream",
          "name": "stdout",
          "text": [
            "Wyznaczenie Szeregu Fouriera\n",
            "a0 = 0.41666666666666663\n",
            "a1 = -0.5066059182116889\n",
            "a2 = 0.12665147955292216\n"
          ]
        },
        {
          "output_type": "display_data",
          "data": {
            "image/png": "[encoded data removed]",
            "text/plain": [
              "<Figure size 432x288 with 1 Axes>"
            ]
          },
          "metadata": {
            "needs_background": "light"
          }
        }
      ],
      "source": [
        "import numpy as np\n",
        "import matplotlib.pyplot as plt\n",
        "from scipy.integrate import quad\n",
        "from sympy import *\n",
        "\n",
        "#Wartości podane\n",
        "T=2\n",
        "w=np.pi\n",
        "p = 1.250\n",
        "\n",
        "#Wyznaczenie Szeregu Fouriera\n",
        "print(\"Wyznaczenie Szeregu Fouriera\")\n",
        "\n",
        "#Funkcje do obliczenia kolejnych wyrazów ciągu\n",
        "def f(t):\n",
        "  return p*t**2\n",
        "\n",
        "def fa1(t):\n",
        "  return f(t)*np.cos(w*t)\n",
        "\n",
        "def fa2(t):\n",
        "  return f(t)*np.cos(2*w*t)\n",
        "\n",
        "#Obliczenie wartości wyrazów a0,a1,a2\n",
        "a0=1/T*quad(f, -1, 1)[0]\n",
        "a1=2/T*quad(fa1, -1, 1)[0]\n",
        "a2=2/T*quad(fa2, -1, 1)[0]\n",
        "\n",
        "#Wypisanie wartości\n",
        "print(\"a0 =\",a0)\n",
        "print('a1 =',a1)\n",
        "print('a2 =',a2)\n",
        "\n",
        "#Wyznaczenie aproksymacji\n",
        "def F(t):\n",
        "  return a0+a1*np.cos(np.pi*t)+a2*np.cos(2*np.pi*t)\n",
        "\n",
        "#Wyświetlenie funkcji i aproksymacji\n",
        "t=np.linspace(-1, 1, 100)\n",
        "fig, ax=plt.subplots()\n",
        "ax.plot(t,f(t),t,F(t))\n",
        "ax.grid(True)\n",
        "plt.show()"
      ]
    },
    {
      "cell_type": "code",
      "source": [
        "#Znajdowanie wielomianu 2 stopnia\n",
        "print(\"Znajdowanie wielomianu drugiego stopnia:\")\n",
        "\n",
        "a, b, c, t = symbols('a b c t')\n",
        "A,B,C = a0, a1, a2\n",
        "\n",
        "expr = (a*t**2+2*b*t+c -(A+B*cos(w*t)+C*cos(2*w*t)))*t**2\n",
        "sol1 = integrate(expr, (t, -1, 1))\n",
        "expr = (a*t**2+2*b*t+c -(A+B*cos(w*t)+C*cos(2*w*t))) * t\n",
        "sol2 = integrate(expr, (t, -1, 1))\n",
        "expr = (a*t**2+2*b*t+c -(A+B*cos(w*t)+C*cos(2*w*t)))\n",
        "sol3 = integrate(expr, (t,-1,1))\n",
        "\n",
        "equations = [\n",
        "  Eq(sol1,  0 ),\n",
        "  Eq(sol2, 0 ),\n",
        "  Eq(sol3,0)\n",
        "]\n",
        "print(solve(equations))"
      ],
      "metadata": {
        "colab": {
          "base_uri": "https://localhost:8080/"
        },
        "id": "xvWJ-ggBbtsT",
        "outputId": "6883d3ca-845d-4b52-d70a-a1b609551b01"
      },
      "execution_count": null,
      "outputs": [
        {
          "output_type": "stream",
          "name": "stdout",
          "text": [
            "Znajdowanie wielomianu drugiego stopnia\n",
            "{a: 1.22710569138024, c: 0.00763143620658750, b: 0.0}\n"
          ]
        }
      ]
    },
    {
      "cell_type": "code",
      "source": [
        ""
      ],
      "metadata": {
        "id": "VAlj5Xf0hIFU"
      },
      "execution_count": null,
      "outputs": []
    }
  ]
}